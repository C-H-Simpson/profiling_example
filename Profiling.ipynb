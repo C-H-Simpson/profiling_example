{
 "cells": [
  {
   "cell_type": "markdown",
   "metadata": {},
   "source": [
    "# Profiling - why is my code slow?\n",
    "Charles Simpson - Short talk at BAS\n",
    "\n",
    "## What is profiling?\n",
    "* Profiling is testing the resources that code uses. \n",
    "* You can identify different parts of your code that take a lot of time or memory. This talk will focus on time.\n",
    "* If you are processing a very large dataset, time can become a limiting factor of your analysis.\n",
    "* If your program only takes a few minutes, that's probably ok. But what if you need to run it $10^6$ times?"
   ]
  },
  {
   "cell_type": "markdown",
   "metadata": {},
   "source": [
    "The simplest way to test some code inside a jupyter notebook is with `%%time` and/or `%%timeit`."
   ]
  },
  {
   "cell_type": "markdown",
   "metadata": {},
   "source": [
    "* `%time` is 'line magic' - will time the execution of a single line of code.\n",
    "* `%%time` is 'cell magic' - will time the entire cell."
   ]
  },
  {
   "cell_type": "code",
   "execution_count": 1,
   "metadata": {},
   "outputs": [
    {
     "name": "stdout",
     "output_type": "stream",
     "text": [
      "This will be evaluated once.\n",
      "CPU times: user 0 ns, sys: 0 ns, total: 0 ns\n",
      "Wall time: 137 µs\n",
      "This part isn't timed\n"
     ]
    }
   ],
   "source": [
    "%time print(\"This will be evaluated once.\")\n",
    "print(\"This part isn't timed\")"
   ]
  },
  {
   "cell_type": "code",
   "execution_count": 2,
   "metadata": {},
   "outputs": [
    {
     "name": "stdout",
     "output_type": "stream",
     "text": [
      "This will be evaluated\n",
      "once\n",
      "CPU times: user 0 ns, sys: 0 ns, total: 0 ns\n",
      "Wall time: 263 µs\n"
     ]
    }
   ],
   "source": [
    "%%time\n",
    "print(\"This will be evaluated\")\n",
    "print(\"once\")"
   ]
  },
  {
   "cell_type": "markdown",
   "metadata": {},
   "source": [
    "* `%%timeit` will time the code multiple times in order to get better statistics."
   ]
  },
  {
   "cell_type": "code",
   "execution_count": 3,
   "metadata": {},
   "outputs": [
    {
     "name": "stdout",
     "output_type": "stream",
     "text": [
      "This will be evaluated multiple times.\n",
      "This will be evaluated multiple times.\n",
      "This will be evaluated multiple times.\n",
      "This will be evaluated multiple times.\n",
      "This will be evaluated multiple times.\n",
      "This will be evaluated multiple times.\n",
      "47.9 µs ± 24.4 µs per loop (mean ± std. dev. of 3 runs, 2 loops each)\n"
     ]
    }
   ],
   "source": [
    "%%timeit -n 2 -r 3\n",
    "print(\"This will be evaluated multiple times.\")"
   ]
  },
  {
   "cell_type": "markdown",
   "metadata": {},
   "source": [
    "* Much more detailed information can be got with a package called *line_profiler*, which will be the focus of the rest of this talk."
   ]
  },
  {
   "cell_type": "code",
   "execution_count": 4,
   "metadata": {},
   "outputs": [],
   "source": [
    "# Load the line profiler\n",
    "%load_ext line_profiler"
   ]
  },
  {
   "cell_type": "markdown",
   "metadata": {},
   "source": [
    "## Example 1 - How to use the profiler\n",
    "In this example, I just want to show how to use the profiler, so the code is very simple.\n",
    "The function `hello_world_loop` just prints a message repeatedly."
   ]
  },
  {
   "cell_type": "code",
   "execution_count": 5,
   "metadata": {},
   "outputs": [],
   "source": [
    "from time import sleep\n",
    "\n",
    "def hello_world_loop(n_loops=5, message='hello_world'):\n",
    "    \"\"\" This program just prints some numbers.\n",
    "        It is made slow by the 'sleep' function.\n",
    "    \"\"\"\n",
    "\n",
    "    for i in range(0, n_loops):\n",
    "        print(i, message)\n",
    "        \n",
    "        # wait 0.1s before continuing\n",
    "        sleep(0.1)"
   ]
  },
  {
   "cell_type": "markdown",
   "metadata": {},
   "source": [
    "We can now run the function as `hello_world_loop()`. But how do we run it through the profiler?\n",
    "\n",
    "The command `%lprun` invokes the profiler. `-T` tells it where to save the results. `-f` tells it what function to profile, and the final argument is the expression to be run."
   ]
  },
  {
   "cell_type": "code",
   "execution_count": 6,
   "metadata": {},
   "outputs": [
    {
     "name": "stdout",
     "output_type": "stream",
     "text": [
      "0 hello_world\n",
      "1 hello_world\n",
      "2 hello_world\n",
      "3 hello_world\n",
      "4 hello_world\n",
      "\n",
      "*** Profile printout saved to text file 'lprof01.txt'. \n"
     ]
    }
   ],
   "source": [
    "%lprun -T lprof01.txt -f hello_world_loop hello_world_loop()"
   ]
  },
  {
   "cell_type": "markdown",
   "metadata": {},
   "source": [
    "The results pop up in the notebook, but we can also load them from the file we specified by `-T`."
   ]
  },
  {
   "cell_type": "code",
   "execution_count": 7,
   "metadata": {
    "scrolled": true
   },
   "outputs": [
    {
     "name": "stdout",
     "output_type": "stream",
     "text": [
      "Timer unit: 1e-06 s\n",
      "\n",
      "Total time: 0.504115 s\n",
      "File: <ipython-input-5-140a62bb0edb>\n",
      "Function: hello_world_loop at line 3\n",
      "\n",
      "Line #      Hits         Time  Per Hit   % Time  Line Contents\n",
      "==============================================================\n",
      "     3                                           def hello_world_loop(n_loops=5, message='hello_world'):\n",
      "     4                                               \"\"\" This program just prints some numbers.\n",
      "     5                                                   It is made slow by the 'sleep' function.\n",
      "     6                                               \"\"\"\n",
      "     7                                           \n",
      "     8         6         26.0      4.3      0.0      for i in range(0, n_loops):\n",
      "     9         5        831.0    166.2      0.2          print(i, message)\n",
      "    10                                                   \n",
      "    11                                                   # wait 0.1s before continuing\n",
      "    12         5     503258.0 100651.6     99.8          sleep(0.1)\n"
     ]
    }
   ],
   "source": [
    "print(open('lprof01.txt', 'r').read())"
   ]
  },
  {
   "cell_type": "markdown",
   "metadata": {},
   "source": [
    "At the top, we can see the total time the the function took to run.\n",
    "Then we can see a table, which shows a line-by-line breakdown of how long the code took to execute.\n",
    "\n",
    "* 'Hits' is how many times that line was run.\n",
    "* 'Time' is the total time taken by that line - in the units specified at the top.\n",
    "* 'Per Hit' is the amount of time per hit - i.e. each time that line was run.\n",
    "* '% Time' is the percentage of the total time the line took.\n",
    "\n",
    "We can see that, as expected, the majority of the time is taken up by the `sleep(0.1)` command. Most of the time is will not be as obvious as this what is making code slow."
   ]
  },
  {
   "cell_type": "markdown",
   "metadata": {},
   "source": [
    "## Example 2 - a more realistic example\n",
    "In this example, we will numerically integrate a polynomial. \n",
    "We will do it three different ways, and see which is best.\n",
    "\n",
    "First, let's make a polynomial. Don't worry about these cells too much for now."
   ]
  },
  {
   "cell_type": "code",
   "execution_count": 8,
   "metadata": {},
   "outputs": [
    {
     "name": "stdout",
     "output_type": "stream",
     "text": [
      "true_integral: -0.008333333333333304\n"
     ]
    }
   ],
   "source": [
    "from numpy.polynomial import polynomial as poly\n",
    "from numpy import linspace\n",
    "coefficients = [0, # + \n",
    "                0.2, # * x +\n",
    "                -1, # * x**2\n",
    "                0.9 # * x**3\n",
    "               ]\n",
    "lims = (0,1)  # the integration limits\n",
    "\n",
    "def f(x):\n",
    "    \"\"\"The function we will integrate\"\"\"\n",
    "    return poly.polyval(x, coefficients)\n",
    "\n",
    "true_integral_lims = poly.polyval(\n",
    "    lims,\n",
    "    poly.polyint(coefficients))\n",
    "true_integral = true_integral_lims[1] - true_integral_lims[0]\n",
    "print(\"true_integral:\", true_integral)"
   ]
  },
  {
   "cell_type": "markdown",
   "metadata": {},
   "source": [
    "Let's plot the function."
   ]
  },
  {
   "cell_type": "code",
   "execution_count": 9,
   "metadata": {},
   "outputs": [
    {
     "data": {
      "text/plain": [
       "Text(0, 0.5, 'f(x)')"
      ]
     },
     "execution_count": 9,
     "metadata": {},
     "output_type": "execute_result"
    },
    {
     "data": {
      "image/png": "[encoded data removed]",
      "text/plain": [
       "<Figure size 720x432 with 1 Axes>"
      ]
     },
     "metadata": {
      "needs_background": "light"
     },
     "output_type": "display_data"
    }
   ],
   "source": [
    "import matplotlib.pyplot as plt\n",
    "plt.figure(figsize=(10,6))\n",
    "x = linspace(*lims)\n",
    "plt.plot(x, f(x))\n",
    "plt.xlabel('x', fontsize=26)\n",
    "plt.ylabel('f(x)', fontsize=26)"
   ]
  },
  {
   "cell_type": "markdown",
   "metadata": {},
   "source": [
    "### Example 2a - trapezium rule with explicit loops\n",
    "Firstly, let's try the trapezium rule. This code uses explicit loops to evaluate all the necessary points."
   ]
  },
  {
   "cell_type": "code",
   "execution_count": 10,
   "metadata": {},
   "outputs": [],
   "source": [
    "def trapezium_a(func, lims, n_points):\n",
    "    \"\"\"Integration using the trapezium rule.\n",
    "\n",
    "    The algorithm is implemented from scratch, and vectorization is not used.\n",
    "    It is a little badly written on purpose!\n",
    "    \"\"\"\n",
    "    # trapezium width\n",
    "    h = (lims[1] - lims[0]) / (n_points - 1)\n",
    "    \n",
    "    # loop over points and evaluate y = f(x)\n",
    "    x_points = [ i*h + lims[0] for i in range(n_points)]\n",
    "    y_points = [ func(x) for x in x_points ]\n",
    "\n",
    "    running_total = 0\n",
    " \n",
    "    # loop over points, to sum y_1,...,y_n-1\n",
    "    for i in range(1, n_points-1):\n",
    "        running_total += y_points[i]\n",
    "\n",
    "    # calculate the integral\n",
    "    integral = 0.5 * h \\\n",
    "        * ((y_points[0] + y_points[-1]) + running_total * 2)\n",
    "\n",
    "    return integral"
   ]
  },
  {
   "cell_type": "markdown",
   "metadata": {},
   "source": [
    "Let's run the integration with 100,000 points."
   ]
  },
  {
   "cell_type": "code",
   "execution_count": 11,
   "metadata": {},
   "outputs": [],
   "source": [
    "n_points = 100000"
   ]
  },
  {
   "cell_type": "code",
   "execution_count": 12,
   "metadata": {},
   "outputs": [
    {
     "name": "stdout",
     "output_type": "stream",
     "text": [
      "trapezium rule answer: \t -0.008333333327499888\n",
      "true answer: \t\t -0.008333333333333304\n"
     ]
    }
   ],
   "source": [
    "print(\"trapezium rule answer:\", \"\\t\", trapezium_a(f, lims, n_points))\n",
    "print(\"true answer:\", \"\\t\\t\", true_integral)"
   ]
  },
  {
   "cell_type": "markdown",
   "metadata": {},
   "source": [
    "We can test how long this takes using `%timeit`."
   ]
  },
  {
   "cell_type": "code",
   "execution_count": 13,
   "metadata": {},
   "outputs": [
    {
     "name": "stdout",
     "output_type": "stream",
     "text": [
      "326 ms ± 11.8 ms per loop (mean ± std. dev. of 7 runs, 1 loop each)\n"
     ]
    }
   ],
   "source": [
    "%timeit trapezium_a(f, lims, n_points)"
   ]
  },
  {
   "cell_type": "markdown",
   "metadata": {},
   "source": [
    "In order to get a line-by-line breakdown, we can use `%lprun`"
   ]
  },
  {
   "cell_type": "code",
   "execution_count": 14,
   "metadata": {
    "scrolled": false
   },
   "outputs": [
    {
     "name": "stdout",
     "output_type": "stream",
     "text": [
      "\n",
      "*** Profile printout saved to text file 'lprof_trapezium_a.txt'. \n",
      "Timer unit: 1e-06 s\n",
      "\n",
      "Total time: 0.773303 s\n",
      "File: <ipython-input-10-71ee363b9b58>\n",
      "Function: trapezium_a at line 1\n",
      "\n",
      "Line #      Hits         Time  Per Hit   % Time  Line Contents\n",
      "==============================================================\n",
      "     1                                           def trapezium_a(func, lims, n_points):\n",
      "     2                                               \"\"\"Integration using the trapezium rule.\n",
      "     3                                           \n",
      "     4                                               The algorithm is implemented from scratch, and vectorization is not used.\n",
      "     5                                               It is a little badly written on purpose!\n",
      "     6                                               \"\"\"\n",
      "     7                                               # trapezium width\n",
      "     8         1          2.0      2.0      0.0      h = (lims[1] - lims[0]) / (n_points - 1)\n",
      "     9                                               \n",
      "    10                                               # loop over points and evaluate y = f(x)\n",
      "    11         1      18493.0  18493.0      2.4      x_points = [ i*h + lims[0] for i in range(n_points)]\n",
      "    12         1     609034.0 609034.0     78.8      y_points = [ func(x) for x in x_points ]\n",
      "    13                                           \n",
      "    14         1          1.0      1.0      0.0      running_total = 0\n",
      "    15                                            \n",
      "    16                                               # loop over points, to sum y_1,...,y_n-1\n",
      "    17     99999      66049.0      0.7      8.5      for i in range(1, n_points-1):\n",
      "    18     99998      79710.0      0.8     10.3          running_total += y_points[i]\n",
      "    19                                           \n",
      "    20                                               # calculate the integral\n",
      "    21         2          3.0      1.5      0.0      integral = 0.5 * h \\\n",
      "    22         1          9.0      9.0      0.0          * ((y_points[0] + y_points[-1]) + running_total * 2)\n",
      "    23                                           \n",
      "    24         1          2.0      2.0      0.0      return integral\n"
     ]
    }
   ],
   "source": [
    "%lprun -T lprof_trapezium_a.txt -f trapezium_a trapezium_a(f, lims, n_points)\n",
    "print(open(\"lprof_trapezium_a.txt\", 'r').read())"
   ]
  },
  {
   "cell_type": "markdown",
   "metadata": {},
   "source": [
    "Most of the time is spent on line 18. `func(x)` is evaluated separately 100,000 times."
   ]
  },
  {
   "cell_type": "markdown",
   "metadata": {},
   "source": [
    "### Example 2b - trapezium rule with vectorization\n",
    "In this case, we use the `numpy` library to vectorize the operations as much as possible.\n",
    "This means that the loops are occurring in the very fast compiled code of the `numpy` library!\n",
    "\n",
    "This allows us to treat an 'array' of points as a single object, and makes the code faster in most cases."
   ]
  },
  {
   "cell_type": "code",
   "execution_count": 15,
   "metadata": {},
   "outputs": [],
   "source": [
    "import numpy as np\n",
    "\n",
    "def trapezium_b(func, lims, n_points):\n",
    "    \"\"\"Integration using the trapezium rule.\n",
    "\n",
    "    The algorithm is implemented from scratch, but vectorization is used.\n",
    "    \"\"\"\n",
    "    h = (lims[1] - lims[0]) / (n_points - 1)\n",
    "    x_points = np.linspace(lims[0], lims[1], n_points)\n",
    "    y_points = func(x_points)\n",
    "\n",
    "    running_total = np.sum(y_points[1:-1])\n",
    "\n",
    "    integral = 0.5 * h \\\n",
    "        * ((y_points[0] + y_points[-1]) + running_total * 2)\n",
    "    return integral"
   ]
  },
  {
   "cell_type": "code",
   "execution_count": 16,
   "metadata": {},
   "outputs": [
    {
     "name": "stdout",
     "output_type": "stream",
     "text": [
      "trapezium rule answer: \t -0.008333333327499876\n",
      "true answer: \t\t -0.008333333333333304\n"
     ]
    }
   ],
   "source": [
    "print(\"trapezium rule answer:\", \"\\t\", trapezium_b(f, lims, n_points))\n",
    "print(\"true answer:\", \"\\t\\t\", true_integral)"
   ]
  },
  {
   "cell_type": "code",
   "execution_count": 17,
   "metadata": {},
   "outputs": [
    {
     "name": "stdout",
     "output_type": "stream",
     "text": [
      "446 µs ± 23.1 µs per loop (mean ± std. dev. of 7 runs, 1000 loops each)\n"
     ]
    }
   ],
   "source": [
    "%timeit trapezium_b(f, lims, n_points)"
   ]
  },
  {
   "cell_type": "markdown",
   "metadata": {},
   "source": [
    "This thousands of times faster than **trapezium_a**!"
   ]
  },
  {
   "cell_type": "code",
   "execution_count": 18,
   "metadata": {},
   "outputs": [
    {
     "name": "stdout",
     "output_type": "stream",
     "text": [
      "\n",
      "*** Profile printout saved to text file 'lprof_trapezium_b.txt'. \n",
      "Timer unit: 1e-06 s\n",
      "\n",
      "Total time: 0.001551 s\n",
      "File: <ipython-input-15-740f983b849b>\n",
      "Function: trapezium_b at line 3\n",
      "\n",
      "Line #      Hits         Time  Per Hit   % Time  Line Contents\n",
      "==============================================================\n",
      "     3                                           def trapezium_b(func, lims, n_points):\n",
      "     4                                               \"\"\"Integration using the trapezium rule.\n",
      "     5                                           \n",
      "     6                                               The algorithm is implemented from scratch, but vectorization is used.\n",
      "     7                                               \"\"\"\n",
      "     8         1          2.0      2.0      0.1      h = (lims[1] - lims[0]) / (n_points - 1)\n",
      "     9         1        885.0    885.0     57.1      x_points = np.linspace(lims[0], lims[1], n_points)\n",
      "    10         1        585.0    585.0     37.7      y_points = func(x_points)\n",
      "    11                                           \n",
      "    12         1         73.0     73.0      4.7      running_total = np.sum(y_points[1:-1])\n",
      "    13                                           \n",
      "    14         2          2.0      1.0      0.1      integral = 0.5 * h \\\n",
      "    15         1          4.0      4.0      0.3          * ((y_points[0] + y_points[-1]) + running_total * 2)\n",
      "    16         1          0.0      0.0      0.0      return integral\n"
     ]
    }
   ],
   "source": [
    "%lprun -T lprof_trapezium_b.txt -f trapezium_b trapezium_b(f, lims, n_points)\n",
    "print(open(\"lprof_trapezium_b.txt\", 'r').read())"
   ]
  },
  {
   "cell_type": "markdown",
   "metadata": {},
   "source": [
    "Although `func(x)` still has to be evaluated the same number of times, the loop occurs in the fast, compiled code."
   ]
  },
  {
   "cell_type": "markdown",
   "metadata": {},
   "source": [
    "### Example 2c - using an external library\n",
    "One of the great things about *python*, is that for any simple task, someone has already written the code for you!\n",
    "It's better to use an implementation in a standard library if possible.\n",
    "\n",
    "In this case, we can use the `scipy.integrate` module."
   ]
  },
  {
   "cell_type": "code",
   "execution_count": 19,
   "metadata": {},
   "outputs": [],
   "source": [
    "import scipy.integrate as integrate"
   ]
  },
  {
   "cell_type": "code",
   "execution_count": 20,
   "metadata": {
    "scrolled": true
   },
   "outputs": [
    {
     "name": "stdout",
     "output_type": "stream",
     "text": [
      "quad integral answer: \t (-0.008333333333333316, 2.8357411135757424e-16)\n",
      "true answer: \t\t -0.008333333333333304\n"
     ]
    }
   ],
   "source": [
    "print(\"quad integral answer:\", \"\\t\", integrate.quad(f, *lims))\n",
    "print(\"true answer:\", \"\\t\\t\", true_integral)"
   ]
  },
  {
   "cell_type": "markdown",
   "metadata": {},
   "source": [
    "You will notice that the result is more accurate than the trapezium rule, and gives an uncertainty!"
   ]
  },
  {
   "cell_type": "code",
   "execution_count": 21,
   "metadata": {},
   "outputs": [
    {
     "name": "stdout",
     "output_type": "stream",
     "text": [
      "68.2 µs ± 2.81 µs per loop (mean ± std. dev. of 7 runs, 10000 loops each)\n"
     ]
    }
   ],
   "source": [
    "%timeit integrate.quad(f, *lims)"
   ]
  },
  {
   "cell_type": "markdown",
   "metadata": {},
   "source": [
    "This is a bit faster than the vectorized **trapezium_b**, and thousands of times faster than **trapezium_a**."
   ]
  },
  {
   "cell_type": "markdown",
   "metadata": {},
   "source": [
    "I won't show the results of `%lprun` in this case, as they are very long!"
   ]
  },
  {
   "cell_type": "code",
   "execution_count": 22,
   "metadata": {},
   "outputs": [
    {
     "name": "stdout",
     "output_type": "stream",
     "text": [
      "\n",
      "*** Profile printout saved to text file 'lprof_quad.txt'. \n"
     ]
    }
   ],
   "source": [
    "%lprun -T lprof_quad.txt -f integrate.quad integrate.quad(f, *lims)\n",
    "# print(open(\"lprof_quad.txt\", 'r').read())"
   ]
  },
  {
   "cell_type": "markdown",
   "metadata": {},
   "source": [
    "## Summary"
   ]
  },
  {
   "cell_type": "markdown",
   "metadata": {},
   "source": [
    "1. Profiling is testing the resources your code uses - in this case *time*.\n",
    "\n",
    "2. **How to profile**\n",
    "    * `%%time` and `%%timeit` test the speed of a small amount of code in a *jupyter notebook*.\n",
    "    * `%lprun` to get a line-by-line breakdown of a python function. (line_profiler)\n",
    "    \n",
    "3. **How to write faster python**\n",
    "    * Use pre-written code in standard libraries ( e.g. *scipy.integrate* ) as much as possible. This will save you time writing code, and will already be fast.\n",
    "    * *Vectorization* with *numpy* can make calculating arrays faster."
   ]
  },
  {
   "cell_type": "markdown",
   "metadata": {},
   "source": [
    "### Also note that...\n",
    "* In order to apply this to your own project, you will first need to install *line_profiler*.\n",
    "You can do this in the terminal using\n",
    "\n",
    "`pip install line_profiler` \n",
    "\n",
    "or \n",
    "\n",
    "`conda install line_profiler` \n",
    "\n",
    "depending on what package manager you are using.\n",
    "* You can also run *line_profiler* from the command line - it's not just in jupyter notebooks.\n",
    "* There are other profilers for python, e.g. for memory usage.\n",
    "* There are profilers for other languages, not just python.\n"
   ]
  }
 ],
 "metadata": {
  "kernelspec": {
   "display_name": "Python 3",
   "language": "python",
   "name": "python3"
  },
  "language_info": {
   "codemirror_mode": {
    "name": "ipython",
    "version": 3
   },
   "file_extension": ".py",
   "mimetype": "text/x-python",
   "name": "python",
   "nbconvert_exporter": "python",
   "pygments_lexer": "ipython3",
   "version": "3.8.2"
  }
 },
 "nbformat": 4,
 "nbformat_minor": 4
}
